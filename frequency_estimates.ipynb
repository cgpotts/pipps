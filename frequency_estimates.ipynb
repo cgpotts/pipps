{
 "cells": [
  {
   "cell_type": "markdown",
   "id": "00d1a345-2672-40b9-b3d4-3249db0eb5c9",
   "metadata": {},
   "source": [
    "# PiPP frequency estimates"
   ]
  },
  {
   "cell_type": "code",
   "execution_count": 1,
   "id": "dc8d5cca-828c-4771-a4a9-73f1e1aa5d2c",
   "metadata": {},
   "outputs": [],
   "source": [
    "__author__ = \"Christopher Potts\""
   ]
  },
  {
   "cell_type": "markdown",
   "id": "32a00602-1184-4689-aa22-d41313fb6361",
   "metadata": {},
   "source": [
    "## Set-up"
   ]
  },
  {
   "cell_type": "code",
   "execution_count": 2,
   "id": "1f783d97-5a6f-4f1e-8daf-477f6dcc3a00",
   "metadata": {},
   "outputs": [],
   "source": [
    "import numpy as np\n",
    "from scipy import stats\n",
    "import pandas as pd"
   ]
  },
  {
   "cell_type": "markdown",
   "id": "afd47e6c-a4a3-45b6-ba13-bb7fb7d987d4",
   "metadata": {},
   "source": [
    "## Utilities"
   ]
  },
  {
   "cell_type": "code",
   "execution_count": 3,
   "id": "1749926c-10d7-40d5-85de-de3591f33950",
   "metadata": {},
   "outputs": [],
   "source": [
    "def get_classical_ci(vals):\n",
    "    if len(set(vals)) == 1:\n",
    "        return (vals[0], vals[0])\n",
    "    loc = np.mean(vals)\n",
    "    scale = np.std(vals) / np.sqrt(len(vals))\n",
    "    l, h = stats.t.interval(0.95, len(vals)-1, loc=loc, scale=scale)\n",
    "    return loc - l, h - loc"
   ]
  },
  {
   "cell_type": "code",
   "execution_count": 4,
   "id": "0a62a12e-72bc-4105-9b5a-7250fcf3b1ea",
   "metadata": {},
   "outputs": [],
   "source": [
    "def experiment(df, total_candidates, n_experiments=10000, n_samples=100, cats=(\"AS\", \"ASAS\", \"THOUGH\")):\n",
    "    data = []\n",
    "    for _ in range(n_experiments):\n",
    "        samp = df.sample(n=n_samples)\n",
    "        n_matches = samp[samp.PiPP.isin(cats)].shape[0]\n",
    "        data.append((n_matches / n_samples) * total_candidates)\n",
    "    ci = get_classical_ci(data)\n",
    "    mu = np.mean(data)\n",
    "    return {\"data\": data, \"ci\": ci, \"mu\": mu}"
   ]
  },
  {
   "cell_type": "code",
   "execution_count": 5,
   "id": "d5fa4c88-61e7-4b96-94cd-2d7afdac7546",
   "metadata": {},
   "outputs": [],
   "source": [
    "def analysis(df, total_candidates, total_examples):\n",
    "    conds = ((\"AS\", \"ASAS\", \"THOUGH\"), (\"ASAS\",), (\"AS\",), (\"THOUGH\",))\n",
    "    for cond in conds:\n",
    "        print(\"=\" * 50)\n",
    "        print(cond)\n",
    "        results = experiment(df, total_candidates, cats=cond)\n",
    "        mu = int(results['mu'].round(0))\n",
    "        ci = int(round(results['ci'][0]))\n",
    "        print(f\"{mu:,} \\pm {ci:,}\")\n",
    "        per = (results['mu'] / total_examples) * 100\n",
    "        print(f\"Freq: {per}\")\n",
    "        if  results['mu'] > 0:\n",
    "            n_sent = int(round(total_examples / results['mu']))\n",
    "            n_sent = f\"{n_sent:,}\"\n",
    "        else: \n",
    "            n_sent = \"inf\"\n",
    "        print(f\"1 in {n_sent} sentences\")"
   ]
  },
  {
   "cell_type": "markdown",
   "id": "670f8c5a-a0b0-41ef-bdf4-5a859220212c",
   "metadata": {},
   "source": [
    "## OpenBooks"
   ]
  },
  {
   "cell_type": "code",
   "execution_count": 6,
   "id": "9c4c3b2c-0f2b-46d2-926c-ed346ac1f9f4",
   "metadata": {},
   "outputs": [],
   "source": [
    "book_ann_df = pd.read_csv(\"annotated/pipp-sample-bookcorpusopen-annotated.csv\", index_col=0)"
   ]
  },
  {
   "cell_type": "code",
   "execution_count": 7,
   "id": "45d63f7f-d772-4fb8-86d9-22b4c7b02f8b",
   "metadata": {},
   "outputs": [],
   "source": [
    "dist = book_ann_df.PiPP.value_counts()"
   ]
  },
  {
   "cell_type": "code",
   "execution_count": 8,
   "id": "69101420-e8b1-4833-ad2e-493b1082e9b7",
   "metadata": {},
   "outputs": [
    {
     "data": {
      "text/plain": [
       "F       995\n",
       "AS        3\n",
       "ASAS      2\n",
       "Name: PiPP, dtype: int64"
      ]
     },
     "execution_count": 8,
     "metadata": {},
     "output_type": "execute_result"
    }
   ],
   "source": [
    "dist"
   ]
  },
  {
   "cell_type": "code",
   "execution_count": 9,
   "id": "e63e1660-bfcf-458c-b00f-89cfd0f56bac",
   "metadata": {},
   "outputs": [],
   "source": [
    "# This file is not included. It needs to be created by running\n",
    "# the notebook `books.ipynb`:\n",
    "\n",
    "books_total_candidates = pd.read_csv(\"samples/pipp-bookcorpusopen.csv\").shape[0]"
   ]
  },
  {
   "cell_type": "code",
   "execution_count": 10,
   "id": "2e56143c-0f4b-43f8-80e4-084adaea47d1",
   "metadata": {},
   "outputs": [
    {
     "data": {
      "text/plain": [
       "5814960"
      ]
     },
     "execution_count": 10,
     "metadata": {},
     "output_type": "execute_result"
    }
   ],
   "source": [
    "books_total_candidates"
   ]
  },
  {
   "cell_type": "code",
   "execution_count": 11,
   "id": "c837887b-4ee4-43c3-80be-7aebc026ee54",
   "metadata": {},
   "outputs": [
    {
     "data": {
      "text/plain": [
       "29075"
      ]
     },
     "execution_count": 11,
     "metadata": {},
     "output_type": "execute_result"
    }
   ],
   "source": [
    "round((5 / 1000) * books_total_candidates)"
   ]
  },
  {
   "cell_type": "code",
   "execution_count": 12,
   "id": "3e1c5cab-ce1c-4648-acb6-65ec8fe7c888",
   "metadata": {},
   "outputs": [],
   "source": [
    "# From the notebook `books.ipynb`:\n",
    "\n",
    "books_total_examples = 90739117"
   ]
  },
  {
   "cell_type": "code",
   "execution_count": 13,
   "id": "f0fc3ecb-2892-4822-90c3-17bb1586fd1c",
   "metadata": {},
   "outputs": [
    {
     "name": "stdout",
     "output_type": "stream",
     "text": [
      "==================================================\n",
      "('AS', 'ASAS', 'THOUGH')\n",
      "29,249 \\pm 761\n",
      "Freq: 0.032234442836819754\n",
      "1 in 3,102 sentences\n",
      "==================================================\n",
      "('ASAS',)\n",
      "12,054 \\pm 494\n",
      "Freq: 0.013284691849051164\n",
      "1 in 7,527 sentences\n",
      "==================================================\n",
      "('AS',)\n",
      "17,137 \\pm 584\n",
      "Freq: 0.018885666608371335\n",
      "1 in 5,295 sentences\n",
      "==================================================\n",
      "('THOUGH',)\n",
      "0 \\pm 0\n",
      "Freq: 0.0\n",
      "1 in inf sentences\n"
     ]
    }
   ],
   "source": [
    "analysis(book_ann_df, books_total_candidates, books_total_examples)"
   ]
  },
  {
   "cell_type": "markdown",
   "id": "d03fc4de-f370-4f09-b7d1-235f742fc590",
   "metadata": {},
   "source": [
    "## C4"
   ]
  },
  {
   "cell_type": "code",
   "execution_count": 14,
   "id": "3c70d1e7-a31d-4ebf-81cf-22e5d362056a",
   "metadata": {},
   "outputs": [],
   "source": [
    "c4_df = pd.read_csv(\"annotated/pipp-sample-c4-annotated.csv\")"
   ]
  },
  {
   "cell_type": "code",
   "execution_count": 15,
   "id": "69d01a15-5866-4191-8768-b7b2a219ffde",
   "metadata": {},
   "outputs": [
    {
     "data": {
      "text/plain": [
       "F       996\n",
       "AS        2\n",
       "ASAS      2\n",
       "Name: PiPP, dtype: int64"
      ]
     },
     "execution_count": 15,
     "metadata": {},
     "output_type": "execute_result"
    }
   ],
   "source": [
    "c4_df.PiPP.value_counts()"
   ]
  },
  {
   "cell_type": "code",
   "execution_count": 16,
   "id": "6a46b0eb-0009-4735-a317-4e15cebbf768",
   "metadata": {},
   "outputs": [],
   "source": [
    "# From the notebook `c4.ipynb`:\n",
    "\n",
    "c4_total_candidates = 540516902"
   ]
  },
  {
   "cell_type": "code",
   "execution_count": 17,
   "id": "0ac59dbd-acaf-49fe-b488-c978f6666831",
   "metadata": {},
   "outputs": [
    {
     "data": {
      "text/plain": [
       "2162068"
      ]
     },
     "execution_count": 17,
     "metadata": {},
     "output_type": "execute_result"
    }
   ],
   "source": [
    "round((4/1000) * c4_total_candidates)"
   ]
  },
  {
   "cell_type": "code",
   "execution_count": 18,
   "id": "af467ac0-092e-490a-9114-a7dccf80b44e",
   "metadata": {},
   "outputs": [],
   "source": [
    "# From the notebook `c4.ipynb`:\n",
    "\n",
    "c4_total_examples = 7546154665"
   ]
  },
  {
   "cell_type": "code",
   "execution_count": 19,
   "id": "e5bc97f5-cee7-4bfb-bf1a-ec902fb1ed22",
   "metadata": {},
   "outputs": [
    {
     "name": "stdout",
     "output_type": "stream",
     "text": [
      "==================================================\n",
      "('AS', 'ASAS', 'THOUGH')\n",
      "2,108,556 \\pm 63,370\n",
      "Freq: 0.027942131168895146\n",
      "1 in 3,579 sentences\n",
      "==================================================\n",
      "('ASAS',)\n",
      "1,067,521 \\pm 44,738\n",
      "Freq: 0.01414655448822556\n",
      "1 in 7,069 sentences\n",
      "==================================================\n",
      "('AS',)\n",
      "1,086,979 \\pm 45,133\n",
      "Freq: 0.01440441573459322\n",
      "1 in 6,942 sentences\n",
      "==================================================\n",
      "('THOUGH',)\n",
      "0 \\pm 0\n",
      "Freq: 0.0\n",
      "1 in inf sentences\n"
     ]
    }
   ],
   "source": [
    "analysis(c4_df, c4_total_candidates, c4_total_examples)"
   ]
  }
 ],
 "metadata": {
  "kernelspec": {
   "display_name": "Python 3 (ipykernel)",
   "language": "python",
   "name": "python3"
  },
  "language_info": {
   "codemirror_mode": {
    "name": "ipython",
    "version": 3
   },
   "file_extension": ".py",
   "mimetype": "text/x-python",
   "name": "python",
   "nbconvert_exporter": "python",
   "pygments_lexer": "ipython3",
   "version": "3.9.13"
  }
 },
 "nbformat": 4,
 "nbformat_minor": 5
}
