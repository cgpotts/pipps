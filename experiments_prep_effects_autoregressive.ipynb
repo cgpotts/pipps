{
 "cells": [
  {
   "cell_type": "markdown",
   "id": "ccdde30b-25c9-4b3c-88b8-2a19a2816d08",
   "metadata": {},
   "source": [
    "# PiPP autoregressive prepositional effects"
   ]
  },
  {
   "cell_type": "code",
   "execution_count": 1,
   "id": "9979fbb8-6e49-4932-9133-c0e733df8512",
   "metadata": {},
   "outputs": [],
   "source": [
    "__author__ = \"Christopher Potts\""
   ]
  },
  {
   "cell_type": "markdown",
   "id": "f8638902-dd6b-48c9-aad9-20f241bc6c06",
   "metadata": {},
   "source": [
    "## Set-up"
   ]
  },
  {
   "cell_type": "code",
   "execution_count": 2,
   "id": "0852ef59-4bd6-40b8-8d10-5291e925c67e",
   "metadata": {},
   "outputs": [],
   "source": [
    "import json\n",
    "import glob\n",
    "import matplotlib.pyplot as plt\n",
    "import numpy as np\n",
    "from minicons import scorer\n",
    "import os\n",
    "import pandas as pd\n",
    "import re\n",
    "\n",
    "import utils"
   ]
  },
  {
   "cell_type": "code",
   "execution_count": 3,
   "id": "7155fd11-dd42-405d-a6c8-d4e7f5bb4872",
   "metadata": {},
   "outputs": [],
   "source": [
    "plt.style.use(\"pipp.mplstyle\")"
   ]
  },
  {
   "cell_type": "markdown",
   "id": "4dc1b4f7-5d34-4be7-9c24-9d343368c328",
   "metadata": {},
   "source": [
    "## Items"
   ]
  },
  {
   "cell_type": "code",
   "execution_count": 4,
   "id": "5e38f7b6-c50e-42c4-afb2-3359a9e4c205",
   "metadata": {
    "tags": []
   },
   "outputs": [],
   "source": [
    "def item(ex):\n",
    "    assert \"*\" in ex\n",
    "    target = re.search(r\"\\*(\\w+)\", ex).group(1)\n",
    "    data = {}\n",
    "    data[\"though/–gap\"] = (ex.replace(\"*\", \"\"), target)\n",
    "    data[\"although/–gap\"] = (ex.replace(\"*\", \"\").replace('though', 'although'), target)\n",
    "    data[\"though/+gap\"] = (re.sub(\"\\s*\\*.*\", \".\", ex), \".\")\n",
    "    data[\"although/+gap\"] = (re.sub(\"\\s*\\*.*\", \".\", ex).replace('though', 'although'), \".\")\n",
    "    return data"
   ]
  },
  {
   "cell_type": "markdown",
   "id": "8903d0a3-0e75-41ca-a743-3381a2d714ba",
   "metadata": {},
   "source": [
    "## Materials"
   ]
  },
  {
   "cell_type": "code",
   "execution_count": 5,
   "id": "cbdfeb52-d0ce-4a76-9f61-50f9a3bcd40e",
   "metadata": {},
   "outputs": [],
   "source": [
    "with open(\"materials-autoregressive-prepeffects.txt\") as f:\n",
    "    materials = f.read().splitlines()"
   ]
  },
  {
   "cell_type": "code",
   "execution_count": 6,
   "id": "45b368c7-0956-467d-b4e4-1e2f6e79a0cb",
   "metadata": {
    "tags": []
   },
   "outputs": [
    {
     "name": "stdout",
     "output_type": "stream",
     "text": [
      "======================================================================\n",
      "{'though/–gap': ('She liked the food spicy though it was rarely served that way.', 'rarely'), 'although/–gap': ('She liked the food spicy although it was rarely served that way.', 'rarely'), 'though/+gap': ('She liked the food spicy though it was.', '.'), 'although/+gap': ('She liked the food spicy although it was.', '.')}\n",
      "======================================================================\n",
      "{'though/–gap': ('They considered the idea scary though it was boring.', 'boring'), 'although/–gap': ('They considered the idea scary although it was boring.', 'boring'), 'though/+gap': ('They considered the idea scary though it was.', '.'), 'although/+gap': ('They considered the idea scary although it was.', '.')}\n",
      "======================================================================\n",
      "{'though/–gap': ('The restaurant served the soup cold though it was usually served hot.', 'usually'), 'although/–gap': ('The restaurant served the soup cold although it was usually served hot.', 'usually'), 'though/+gap': ('The restaurant served the soup cold though it was.', '.'), 'although/+gap': ('The restaurant served the soup cold although it was.', '.')}\n",
      "======================================================================\n",
      "{'though/–gap': ('The teacher ended the class early though it was fairly close to the end of the period.', 'fairly'), 'although/–gap': ('The teacher ended the class early although it was fairly close to the end of the period.', 'fairly'), 'though/+gap': ('The teacher ended the class early though it was.', '.'), 'although/+gap': ('The teacher ended the class early although it was.', '.')}\n",
      "======================================================================\n",
      "{'though/–gap': ('He cut his hair short though it was certainly regulation length already.', 'certainly'), 'although/–gap': ('He cut his hair short although it was certainly regulation length already.', 'certainly'), 'though/+gap': ('He cut his hair short though it was.', '.'), 'although/+gap': ('He cut his hair short although it was.', '.')}\n",
      "======================================================================\n",
      "{'though/–gap': ('She drove the car fast though it was her first time driving.', 'her'), 'although/–gap': ('She drove the car fast although it was her first time driving.', 'her'), 'though/+gap': ('She drove the car fast though it was.', '.'), 'although/+gap': ('She drove the car fast although it was.', '.')}\n",
      "======================================================================\n",
      "{'though/–gap': ('The robot wiped the table clean though it was seldom used.', 'seldom'), 'although/–gap': ('The robot wiped the table clean although it was seldom used.', 'seldom'), 'though/+gap': ('The robot wiped the table clean though it was.', '.'), 'although/+gap': ('The robot wiped the table clean although it was.', '.')}\n",
      "======================================================================\n",
      "{'though/–gap': ('The machine crushed the car flat though it was working just fine.', 'working'), 'although/–gap': ('The machine crushed the car flat although it was working just fine.', 'working'), 'though/+gap': ('The machine crushed the car flat though it was.', '.'), 'although/+gap': ('The machine crushed the car flat although it was.', '.')}\n",
      "======================================================================\n",
      "{'though/–gap': ('The food smelled fresh though it was very old.', 'very'), 'although/–gap': ('The food smelled fresh although it was very old.', 'very'), 'though/+gap': ('The food smelled fresh though it was.', '.'), 'although/+gap': ('The food smelled fresh although it was.', '.')}\n",
      "======================================================================\n",
      "{'though/–gap': ('They prefer the pasta bland though it is never served that way.', 'never'), 'although/–gap': ('They prefer the pasta bland although it is never served that way.', 'never'), 'though/+gap': ('They prefer the pasta bland though it is.', '.'), 'although/+gap': ('They prefer the pasta bland although it is.', '.')}\n"
     ]
    }
   ],
   "source": [
    "for ex in materials:\n",
    "    print(\"=\" * 70)\n",
    "    print(item(ex))"
   ]
  },
  {
   "cell_type": "markdown",
   "id": "a3a9f78e-2bef-4310-8f21-6affbdda532b",
   "metadata": {},
   "source": [
    "## Experiments"
   ]
  },
  {
   "cell_type": "code",
   "execution_count": 7,
   "id": "28be26c7-5876-4615-a3b3-a1789a98598c",
   "metadata": {},
   "outputs": [],
   "source": [
    "def run_item(ex, item_num, model):\n",
    "    data = []\n",
    "    conds = item(ex)\n",
    "    for typ, (text, target) in conds.items():\n",
    "        response = {}\n",
    "        response['fulltext'] = text\n",
    "        response['prompt'] = text\n",
    "        toks_with_logprobs = model.token_score([text], rank=False)[0]\n",
    "        toks, logprobs = zip(*toks_with_logprobs)\n",
    "        response['prompt_tokens'] = list(toks)\n",
    "        response['prompt_scores'] = list(logprobs)\n",
    "        inds = [i for i, tok in enumerate(toks) if tok.strip() == target]\n",
    "        ti = inds[0]\n",
    "        surprisal = convert_to_surprisal(logprobs[ti])\n",
    "        response['condition'] = typ\n",
    "        response['target_surprisal'] = surprisal\n",
    "        response['item_num'] = item_num\n",
    "        data.append(response)\n",
    "    return data\n",
    "\n",
    "def convert_to_surprisal(x):\n",
    "    return -(x / np.log(2))"
   ]
  },
  {
   "cell_type": "code",
   "execution_count": 8,
   "id": "b49243e2-9a5e-415b-8e66-d012dee98db3",
   "metadata": {},
   "outputs": [],
   "source": [
    "def run_experiment(materials, model_name):\n",
    "    data = []\n",
    "    model = scorer.IncrementalLMScorer(model_name)\n",
    "    for item_num, m in enumerate(materials, start=1):\n",
    "        data += run_item(m, item_num, model)\n",
    "    model_nickname = model_name.split(\"/\")[-1]\n",
    "    output_filename = f\"results/autoregressive-pp-results-{model_nickname}.json\"\n",
    "    with open(output_filename, \"wt\") as f:\n",
    "        json.dump(data, f, indent=4)"
   ]
  },
  {
   "cell_type": "markdown",
   "id": "2e45c6ea-9d2a-4a8a-9383-96cd00f67162",
   "metadata": {},
   "source": [
    "### Models"
   ]
  },
  {
   "cell_type": "code",
   "execution_count": 9,
   "id": "69c0659a-e872-4029-9494-0ad0f13d906a",
   "metadata": {},
   "outputs": [],
   "source": [
    "all_model_names = [\n",
    "    \"EleutherAI/pythia-70m-deduped\",\n",
    "    \"EleutherAI/pythia-160m-deduped\",\n",
    "    \"EleutherAI/pythia-410m-deduped\",\n",
    "    \"EleutherAI/pythia-1b-deduped\",\n",
    "    \"EleutherAI/pythia-1.4b-deduped\",\n",
    "    \"EleutherAI/pythia-2.8b-deduped\",\n",
    "    \"EleutherAI/pythia-6.9b-deduped\"\n",
    "    \"EleutherAI/pythia-12b-deduped\"\n",
    "]\n",
    "\n",
    "for model_name in all_model_names:\n",
    "    run_experiment(materials, model_name)"
   ]
  },
  {
   "cell_type": "markdown",
   "id": "2219a605-ce4e-4399-a151-917ecdeb0c31",
   "metadata": {},
   "source": [
    "## Visualization"
   ]
  },
  {
   "cell_type": "code",
   "execution_count": 10,
   "id": "6b58b10f-daad-4c2c-957e-38ad3d0ef3ab",
   "metadata": {},
   "outputs": [],
   "source": [
    "order = ['though/+gap', 'although/+gap', 'though/–gap',  'although/–gap'][::-1]\n",
    "\n",
    "for results_filename in glob.glob(os.path.join(\"results\", \"autoregressive-pp-results*.json\")):\n",
    "    utils.mean_plot(results_filename, order, xlim=18)"
   ]
  }
 ],
 "metadata": {
  "kernelspec": {
   "display_name": "Python 3 (ipykernel)",
   "language": "python",
   "name": "python3"
  },
  "language_info": {
   "codemirror_mode": {
    "name": "ipython",
    "version": 3
   },
   "file_extension": ".py",
   "mimetype": "text/x-python",
   "name": "python",
   "nbconvert_exporter": "python",
   "pygments_lexer": "ipython3",
   "version": "3.9.18"
  }
 },
 "nbformat": 4,
 "nbformat_minor": 5
}
