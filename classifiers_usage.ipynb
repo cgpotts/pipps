{
 "cells": [
  {
   "cell_type": "markdown",
   "id": "a30956eb-1a93-45e5-b7f4-241cc75e153a",
   "metadata": {
    "id": "psMVQ2hCp0D3"
   },
   "source": [
    "# Using trained PiPP classifiers"
   ]
  },
  {
   "cell_type": "code",
   "execution_count": 1,
   "id": "40fc324b-a09c-4b10-9c1b-9fd6247e7446",
   "metadata": {},
   "outputs": [],
   "source": [
    "__author__ = \"Christopher Potts\""
   ]
  },
  {
   "cell_type": "code",
   "execution_count": 2,
   "id": "3650ede0-ed9b-43dc-8b47-698ab56a37b2",
   "metadata": {
    "id": "3650ede0-ed9b-43dc-8b47-698ab56a37b2"
   },
   "outputs": [],
   "source": [
    "import pandas as pd\n",
    "from transformers import AutoTokenizer, AutoModelForSequenceClassification\n",
    "import utils"
   ]
  },
  {
   "cell_type": "markdown",
   "id": "d6a1886f-71f1-425e-8774-a079e25bfe2c",
   "metadata": {},
   "source": [
    "## Model loading"
   ]
  },
  {
   "cell_type": "code",
   "execution_count": 3,
   "id": "ce7770cf-cc4d-4b8f-906b-0cec1bf4c281",
   "metadata": {},
   "outputs": [],
   "source": [
    "model = AutoModelForSequenceClassification.from_pretrained(\"cgpotts/pipp-finder-bert-base-cased\")\n",
    "\n",
    "tokenizer = AutoTokenizer.from_pretrained(\"cgpotts/pipp-finder-bert-base-cased\")"
   ]
  },
  {
   "cell_type": "markdown",
   "id": "574d1188-4ad9-4318-94e2-0f85450f5844",
   "metadata": {},
   "source": [
    "## Example usage"
   ]
  },
  {
   "cell_type": "code",
   "execution_count": 4,
   "id": "c289105c-e308-4627-9ee9-696644a658fa",
   "metadata": {},
   "outputs": [
    {
     "data": {
      "text/plain": [
       "array([1])"
      ]
     },
     "execution_count": 4,
     "metadata": {},
     "output_type": "execute_result"
    }
   ],
   "source": [
    "utils.model_predict([\"Happy though we were with the idea, we rejected it.\"], tokenizer, model)"
   ]
  },
  {
   "cell_type": "code",
   "execution_count": 5,
   "id": "ea784d7b-0b05-48b6-9ba5-7994a1c1c393",
   "metadata": {},
   "outputs": [
    {
     "data": {
      "text/plain": [
       "array([0])"
      ]
     },
     "execution_count": 5,
     "metadata": {},
     "output_type": "execute_result"
    }
   ],
   "source": [
    "utils.model_predict([\"Though we were happy with the idea, we rejected it.\"], tokenizer, model)"
   ]
  },
  {
   "cell_type": "markdown",
   "id": "6271b074-7ece-44c1-ab56-56ee2aa48d7c",
   "metadata": {},
   "source": [
    "## Assessments"
   ]
  },
  {
   "cell_type": "markdown",
   "id": "84b571a6-a022-45c9-bd58-2098a0301268",
   "metadata": {},
   "source": [
    "### Main experimental materials"
   ]
  },
  {
   "cell_type": "code",
   "execution_count": 6,
   "id": "9d0e8466-aa20-495f-926c-60db68113ebd",
   "metadata": {},
   "outputs": [],
   "source": [
    "with open(\"materials.txt\") as f:\n",
    "    materials = f.read().splitlines()"
   ]
  },
  {
   "cell_type": "code",
   "execution_count": 7,
   "id": "65798f90-f5b4-48d4-a44f-dba557895994",
   "metadata": {},
   "outputs": [],
   "source": [
    "data = []\n",
    "\n",
    "for prep in (\"as\", \"though\", \"asas\"):\n",
    "    for emb in (\"\", \"they said that we knew that\"):\n",
    "        embstatus = True if emb else False\n",
    "        testers = [utils.item(s, preposition=prep, embedding=emb) for s in materials]\n",
    "        for cond in ('PiPP (Filler/Gap)', 'PP (No Filler/No Gap)'):\n",
    "            label = 1 if cond == 'PiPP (Filler/Gap)' else 0\n",
    "            exs = [d[cond][0] for d in testers]\n",
    "            preds = utils.model_predict(exs, tokenizer, model)\n",
    "            correct = sum([p == label for p in preds])\n",
    "            total = len(preds)\n",
    "            d = {\"preposition\": prep,\n",
    "                 \"embedding\": emb,\n",
    "                 \"condition\": cond,\n",
    "                 \"correct\": correct,\n",
    "                 \"total\": total}\n",
    "            data.append(d)\n",
    "\n",
    "main_df = pd.DataFrame(data)"
   ]
  },
  {
   "cell_type": "code",
   "execution_count": 8,
   "id": "16f6defa-6064-4500-ab60-20b336216ed7",
   "metadata": {},
   "outputs": [],
   "source": [
    "main_df['accuracy'] = main_df.correct / main_df.total"
   ]
  },
  {
   "cell_type": "code",
   "execution_count": 9,
   "id": "7913ee0c-1d8e-4d11-8886-90997512e884",
   "metadata": {},
   "outputs": [
    {
     "data": {
      "text/html": [
       "<div>\n",
       "<style scoped>\n",
       "    .dataframe tbody tr th:only-of-type {\n",
       "        vertical-align: middle;\n",
       "    }\n",
       "\n",
       "    .dataframe tbody tr th {\n",
       "        vertical-align: top;\n",
       "    }\n",
       "\n",
       "    .dataframe thead th {\n",
       "        text-align: right;\n",
       "    }\n",
       "</style>\n",
       "<table border=\"1\" class=\"dataframe\">\n",
       "  <thead>\n",
       "    <tr style=\"text-align: right;\">\n",
       "      <th></th>\n",
       "      <th>preposition</th>\n",
       "      <th>embedding</th>\n",
       "      <th>condition</th>\n",
       "      <th>correct</th>\n",
       "      <th>total</th>\n",
       "      <th>accuracy</th>\n",
       "    </tr>\n",
       "  </thead>\n",
       "  <tbody>\n",
       "    <tr>\n",
       "      <th>0</th>\n",
       "      <td>as</td>\n",
       "      <td></td>\n",
       "      <td>PiPP (Filler/Gap)</td>\n",
       "      <td>32</td>\n",
       "      <td>33</td>\n",
       "      <td>0.969697</td>\n",
       "    </tr>\n",
       "    <tr>\n",
       "      <th>1</th>\n",
       "      <td>as</td>\n",
       "      <td></td>\n",
       "      <td>PP (No Filler/No Gap)</td>\n",
       "      <td>33</td>\n",
       "      <td>33</td>\n",
       "      <td>1.000000</td>\n",
       "    </tr>\n",
       "    <tr>\n",
       "      <th>2</th>\n",
       "      <td>as</td>\n",
       "      <td>they said that we knew that</td>\n",
       "      <td>PiPP (Filler/Gap)</td>\n",
       "      <td>32</td>\n",
       "      <td>33</td>\n",
       "      <td>0.969697</td>\n",
       "    </tr>\n",
       "    <tr>\n",
       "      <th>3</th>\n",
       "      <td>as</td>\n",
       "      <td>they said that we knew that</td>\n",
       "      <td>PP (No Filler/No Gap)</td>\n",
       "      <td>33</td>\n",
       "      <td>33</td>\n",
       "      <td>1.000000</td>\n",
       "    </tr>\n",
       "    <tr>\n",
       "      <th>4</th>\n",
       "      <td>though</td>\n",
       "      <td></td>\n",
       "      <td>PiPP (Filler/Gap)</td>\n",
       "      <td>33</td>\n",
       "      <td>33</td>\n",
       "      <td>1.000000</td>\n",
       "    </tr>\n",
       "    <tr>\n",
       "      <th>5</th>\n",
       "      <td>though</td>\n",
       "      <td></td>\n",
       "      <td>PP (No Filler/No Gap)</td>\n",
       "      <td>33</td>\n",
       "      <td>33</td>\n",
       "      <td>1.000000</td>\n",
       "    </tr>\n",
       "    <tr>\n",
       "      <th>6</th>\n",
       "      <td>though</td>\n",
       "      <td>they said that we knew that</td>\n",
       "      <td>PiPP (Filler/Gap)</td>\n",
       "      <td>33</td>\n",
       "      <td>33</td>\n",
       "      <td>1.000000</td>\n",
       "    </tr>\n",
       "    <tr>\n",
       "      <th>7</th>\n",
       "      <td>though</td>\n",
       "      <td>they said that we knew that</td>\n",
       "      <td>PP (No Filler/No Gap)</td>\n",
       "      <td>33</td>\n",
       "      <td>33</td>\n",
       "      <td>1.000000</td>\n",
       "    </tr>\n",
       "    <tr>\n",
       "      <th>8</th>\n",
       "      <td>asas</td>\n",
       "      <td></td>\n",
       "      <td>PiPP (Filler/Gap)</td>\n",
       "      <td>33</td>\n",
       "      <td>33</td>\n",
       "      <td>1.000000</td>\n",
       "    </tr>\n",
       "    <tr>\n",
       "      <th>9</th>\n",
       "      <td>asas</td>\n",
       "      <td></td>\n",
       "      <td>PP (No Filler/No Gap)</td>\n",
       "      <td>33</td>\n",
       "      <td>33</td>\n",
       "      <td>1.000000</td>\n",
       "    </tr>\n",
       "    <tr>\n",
       "      <th>10</th>\n",
       "      <td>asas</td>\n",
       "      <td>they said that we knew that</td>\n",
       "      <td>PiPP (Filler/Gap)</td>\n",
       "      <td>33</td>\n",
       "      <td>33</td>\n",
       "      <td>1.000000</td>\n",
       "    </tr>\n",
       "    <tr>\n",
       "      <th>11</th>\n",
       "      <td>asas</td>\n",
       "      <td>they said that we knew that</td>\n",
       "      <td>PP (No Filler/No Gap)</td>\n",
       "      <td>33</td>\n",
       "      <td>33</td>\n",
       "      <td>1.000000</td>\n",
       "    </tr>\n",
       "  </tbody>\n",
       "</table>\n",
       "</div>"
      ],
      "text/plain": [
       "   preposition                    embedding              condition  correct  \\\n",
       "0           as                                   PiPP (Filler/Gap)       32   \n",
       "1           as                               PP (No Filler/No Gap)       33   \n",
       "2           as  they said that we knew that      PiPP (Filler/Gap)       32   \n",
       "3           as  they said that we knew that  PP (No Filler/No Gap)       33   \n",
       "4       though                                   PiPP (Filler/Gap)       33   \n",
       "5       though                               PP (No Filler/No Gap)       33   \n",
       "6       though  they said that we knew that      PiPP (Filler/Gap)       33   \n",
       "7       though  they said that we knew that  PP (No Filler/No Gap)       33   \n",
       "8         asas                                   PiPP (Filler/Gap)       33   \n",
       "9         asas                               PP (No Filler/No Gap)       33   \n",
       "10        asas  they said that we knew that      PiPP (Filler/Gap)       33   \n",
       "11        asas  they said that we knew that  PP (No Filler/No Gap)       33   \n",
       "\n",
       "    total  accuracy  \n",
       "0      33  0.969697  \n",
       "1      33  1.000000  \n",
       "2      33  0.969697  \n",
       "3      33  1.000000  \n",
       "4      33  1.000000  \n",
       "5      33  1.000000  \n",
       "6      33  1.000000  \n",
       "7      33  1.000000  \n",
       "8      33  1.000000  \n",
       "9      33  1.000000  \n",
       "10     33  1.000000  \n",
       "11     33  1.000000  "
      ]
     },
     "execution_count": 9,
     "metadata": {},
     "output_type": "execute_result"
    }
   ],
   "source": [
    "main_df"
   ]
  },
  {
   "cell_type": "code",
   "execution_count": 10,
   "id": "3a613e7b-19a7-4450-baf8-900332b2d930",
   "metadata": {},
   "outputs": [
    {
     "data": {
      "text/plain": [
       "'Macro average accuracy: 0.9949494949494949'"
      ]
     },
     "execution_count": 10,
     "metadata": {},
     "output_type": "execute_result"
    }
   ],
   "source": [
    "f\"Macro average accuracy: {main_df.correct.sum() / main_df.total.sum()}\""
   ]
  },
  {
   "cell_type": "markdown",
   "id": "426dee7e-5912-4bd0-8cd3-58e500019181",
   "metadata": {},
   "source": [
    "### Stress tests"
   ]
  },
  {
   "cell_type": "code",
   "execution_count": 11,
   "id": "74e9db22-41cd-4558-930e-fa8f30f037c9",
   "metadata": {},
   "outputs": [],
   "source": [
    "stress_df = pd.read_csv(\"materials-stress-test.csv\")"
   ]
  },
  {
   "cell_type": "markdown",
   "id": "54980e1a-7b8f-4548-917c-f684ef7ce3ea",
   "metadata": {},
   "source": [
    "#### PiPPs"
   ]
  },
  {
   "cell_type": "code",
   "execution_count": 12,
   "id": "d049d526-bd2c-4362-af64-9de772c341a9",
   "metadata": {},
   "outputs": [],
   "source": [
    "stress_pipp = list(stress_df.PiPP.values)"
   ]
  },
  {
   "cell_type": "code",
   "execution_count": 13,
   "id": "c9947cdd-3dab-4de5-92dd-6a947dd9db0c",
   "metadata": {},
   "outputs": [],
   "source": [
    "stress_pipp_preds = [p== 1 for p in utils.model_predict(stress_pipp, tokenizer, model)]"
   ]
  },
  {
   "cell_type": "code",
   "execution_count": 14,
   "id": "027e6af9-89f9-43cf-8e6a-67b82ded4da0",
   "metadata": {},
   "outputs": [
    {
     "data": {
      "text/plain": [
       "'Stress case PiPPs: 8 of 9 correct'"
      ]
     },
     "execution_count": 14,
     "metadata": {},
     "output_type": "execute_result"
    }
   ],
   "source": [
    "f\"Stress case PiPPs: {sum(stress_pipp_preds)} of {len(stress_pipp_preds)} correct\""
   ]
  },
  {
   "cell_type": "code",
   "execution_count": 15,
   "id": "3c426e22-cc2b-4147-82eb-d145aa65799a",
   "metadata": {},
   "outputs": [
    {
     "data": {
      "text/plain": [
       "['Learn Klingon though they wanted to try to, they did not have time.']"
      ]
     },
     "execution_count": 15,
     "metadata": {},
     "output_type": "execute_result"
    }
   ],
   "source": [
    "[s for s, c in zip(stress_pipp, stress_pipp_preds) if not c]"
   ]
  },
  {
   "cell_type": "markdown",
   "id": "306a5936-fce1-42dc-85cf-244014fb3dd3",
   "metadata": {},
   "source": [
    "#### PPs"
   ]
  },
  {
   "cell_type": "code",
   "execution_count": 16,
   "id": "0a8563ea-e1a4-4113-b7df-d43a6d67f41e",
   "metadata": {},
   "outputs": [],
   "source": [
    "stress_pp = list(stress_df.PP.values)"
   ]
  },
  {
   "cell_type": "code",
   "execution_count": 17,
   "id": "0d66383c-7f6a-4dd4-944b-9bbe2aacf45d",
   "metadata": {},
   "outputs": [],
   "source": [
    "stress_pp_preds = [p == 0 for p in utils.model_predict(stress_pp, tokenizer, model)]"
   ]
  },
  {
   "cell_type": "code",
   "execution_count": 18,
   "id": "bbbadc5f-c9e9-4f89-b702-03284aaed150",
   "metadata": {},
   "outputs": [
    {
     "data": {
      "text/plain": [
       "'Stress case PPs: 9 of 9 correct'"
      ]
     },
     "execution_count": 18,
     "metadata": {},
     "output_type": "execute_result"
    }
   ],
   "source": [
    "f\"Stress case PPs: {sum(stress_pp_preds)} of {len(stress_pp_preds)} correct\""
   ]
  }
 ],
 "metadata": {
  "accelerator": "GPU",
  "colab": {
   "gpuType": "A100",
   "machine_shape": "hm",
   "provenance": []
  },
  "kernelspec": {
   "display_name": "Python 3 (ipykernel)",
   "language": "python",
   "name": "python3"
  },
  "language_info": {
   "codemirror_mode": {
    "name": "ipython",
    "version": 3
   },
   "file_extension": ".py",
   "mimetype": "text/x-python",
   "name": "python",
   "nbconvert_exporter": "python",
   "pygments_lexer": "ipython3",
   "version": "3.9.13"
  }
 },
 "nbformat": 4,
 "nbformat_minor": 5
}
