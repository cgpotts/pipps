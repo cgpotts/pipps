{
 "cells": [
  {
   "cell_type": "markdown",
   "id": "bb6686e3-8e89-41d1-8715-105849793453",
   "metadata": {},
   "source": [
    "# C4"
   ]
  },
  {
   "cell_type": "code",
   "execution_count": null,
   "id": "98fa3e23-0857-4054-bbc5-157ddb7fc5ab",
   "metadata": {},
   "outputs": [],
   "source": [
    "__author__ = \"Christopher Potts\""
   ]
  },
  {
   "cell_type": "markdown",
   "id": "1a2363f5-19ca-4ed4-9a4e-5a0da560fbc3",
   "metadata": {},
   "source": [
    "## Set-up"
   ]
  },
  {
   "cell_type": "code",
   "execution_count": null,
   "id": "ce15e77f-00a5-4799-9277-05f8960c4519",
   "metadata": {},
   "outputs": [],
   "source": [
    "import glob\n",
    "import json\n",
    "import re\n",
    "import gzip\n",
    "from joblib import Parallel, delayed\n",
    "import tqdm\n",
    "import os\n",
    "import pandas as pd\n",
    "from nltk.tokenize import sent_tokenize\n",
    "import random\n",
    "\n",
    "import utils"
   ]
  },
  {
   "cell_type": "code",
   "execution_count": null,
   "id": "1b8dd06f-b190-4319-92ad-c31fff00b8cb",
   "metadata": {},
   "outputs": [],
   "source": [
    "C4_HOME = \"c4/en\"\n",
    "\n",
    "OUTPUT_DIRNAME = \"c4-pipp-candidates\""
   ]
  },
  {
   "cell_type": "markdown",
   "id": "e2855906-d05c-4c7e-9869-1b333bc3837c",
   "metadata": {},
   "source": [
    "## Sentence count"
   ]
  },
  {
   "cell_type": "code",
   "execution_count": null,
   "id": "e5a1559d-cee0-4d56-be2e-998337926db4",
   "metadata": {},
   "outputs": [],
   "source": [
    "def count_c4_sentences(filename):\n",
    "    count = 0\n",
    "    with gzip.open(filename, \"rt\") as f:\n",
    "        for line in f:\n",
    "            ex = json.loads(line)\n",
    "            count += len(sent_tokenize(ex['text']))\n",
    "    return count\n",
    "\n",
    "def count_c4_sentences_parallel(filenames):\n",
    "    pbar = tqdm.tqdm(filenames)\n",
    "    return sum(Parallel(n_jobs=10)(delayed(count_c4_sentences)(f) for f in pbar))"
   ]
  },
  {
   "cell_type": "code",
   "execution_count": null,
   "id": "84962983-95e3-408e-b244-5f1a5c5a2cd0",
   "metadata": {},
   "outputs": [],
   "source": [
    "filenames = glob.glob(os.path.join(C4_HOME, \"c4-train*.gz\"))"
   ]
  },
  {
   "cell_type": "code",
   "execution_count": null,
   "id": "3cd7ea5a-bc11-4621-bda3-1bcaed902678",
   "metadata": {},
   "outputs": [],
   "source": [
    "%time train_sent_count = count_c4_sentences_parallel(filenames)"
   ]
  },
  {
   "cell_type": "code",
   "execution_count": null,
   "id": "f64a63b4-b6f4-444d-9050-4cde270b69d0",
   "metadata": {},
   "outputs": [],
   "source": [
    "train_sent_count"
   ]
  },
  {
   "cell_type": "markdown",
   "id": "db01b8c7-9a92-47cb-9191-801c93e0184f",
   "metadata": {},
   "source": [
    "## Candidates"
   ]
  },
  {
   "cell_type": "code",
   "execution_count": null,
   "id": "8fd7eb4e-62cd-4ac1-a1e1-270a6c3e978c",
   "metadata": {},
   "outputs": [],
   "source": [
    "def sentence_reader(text):\n",
    "    doc = sent_tokenize(text)\n",
    "    return [s for s in doc if \" though \" in s or \" as \" in s]"
   ]
  },
  {
   "cell_type": "code",
   "execution_count": null,
   "id": "cd58a931-ae40-4e3e-b1fb-2da13029050d",
   "metadata": {},
   "outputs": [],
   "source": [
    "def c4_reader(filename, output_dirname=OUTPUT_DIRNAME):\n",
    "    import os\n",
    "    import gzip\n",
    "    data = []\n",
    "    with gzip.open(filename, \"rt\") as f:\n",
    "        for line in f:\n",
    "            if \" though \" in line or \" as \" in line:\n",
    "                ex = json.loads(line)\n",
    "                for sent in sentence_reader(ex['text']):\n",
    "                    if utils.is_match(sent):\n",
    "                        data.append({\n",
    "                            \"timestamp\": ex['timestamp'],\n",
    "                            \"url\": ex['url'],\n",
    "                            \"sentence\": sent})\n",
    "    basename = os.path.basename(filename).replace(\".json.gz\", \".json\")\n",
    "    output_filename = os.path.join(OUTPUT_DIRNAME, basename)\n",
    "    with open(output_filename, \"wt\") as f:\n",
    "        json.dump(data, f)\n",
    "\n",
    "\n",
    "def c4_reader_parallel(filenames):\n",
    "    pbar = tqdm.tqdm(filenames)\n",
    "    Parallel(n_jobs=10)(delayed(c4_reader)(f) for f in pbar)"
   ]
  },
  {
   "cell_type": "code",
   "execution_count": null,
   "id": "01b72a9b-20f0-48cf-b24b-32e824d3f40b",
   "metadata": {},
   "outputs": [],
   "source": [
    "%time train = c4_reader_parallel(filenames)"
   ]
  },
  {
   "cell_type": "code",
   "execution_count": null,
   "id": "8c3aa75d-a038-4dfe-bb48-e2b0b0e87e16",
   "metadata": {},
   "outputs": [],
   "source": [
    "def get_sample_with_counts():\n",
    "    count = 0\n",
    "    data = []\n",
    "    filenames = glob.glob(OUTPUT_DIRNAME, \"c4-train*.json\")\n",
    "    for filename in tqdm.tqdm(filenames):\n",
    "        with open(filename) as f:\n",
    "            exs = json.load(f)\n",
    "            count += len(exs)\n",
    "            # To avoid a memory overload, sample just one example per file:\n",
    "            i = random.randint(0, len(exs))\n",
    "            data.append(exs[i])\n",
    "    return data, count"
   ]
  },
  {
   "cell_type": "code",
   "execution_count": null,
   "id": "fb4078f4-ec74-4862-98c1-fe71583307c7",
   "metadata": {},
   "outputs": [],
   "source": [
    "samp, count = get_sample_with_counts()"
   ]
  },
  {
   "cell_type": "code",
   "execution_count": null,
   "id": "c40ae2cb-837a-4c2d-9b35-5ed081d5d37a",
   "metadata": {},
   "outputs": [],
   "source": [
    "count"
   ]
  },
  {
   "cell_type": "code",
   "execution_count": null,
   "id": "ec677878-32ff-4841-9968-da8b34f10261",
   "metadata": {},
   "outputs": [],
   "source": [
    "random.shuffle(samp)"
   ]
  },
  {
   "cell_type": "code",
   "execution_count": null,
   "id": "a6d7db8e-2abc-4fc1-8aad-8c49fb5183d2",
   "metadata": {},
   "outputs": [],
   "source": [
    "sample_df = pd.DataFrame(samp[: 1000])"
   ]
  },
  {
   "cell_type": "code",
   "execution_count": null,
   "id": "ce709069-d1e4-4060-83d9-e9d307268aae",
   "metadata": {},
   "outputs": [],
   "source": [
    "sample_df.to_csv(\"samples/pipp-sample-c4.csv\")"
   ]
  }
 ],
 "metadata": {
  "kernelspec": {
   "display_name": "Python 3 (ipykernel)",
   "language": "python",
   "name": "python3"
  },
  "language_info": {
   "codemirror_mode": {
    "name": "ipython",
    "version": 3
   },
   "file_extension": ".py",
   "mimetype": "text/x-python",
   "name": "python",
   "nbconvert_exporter": "python",
   "pygments_lexer": "ipython3",
   "version": "3.9.13"
  }
 },
 "nbformat": 4,
 "nbformat_minor": 5
}
